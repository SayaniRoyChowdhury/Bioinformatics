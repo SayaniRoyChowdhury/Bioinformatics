{
  "nbformat": 4,
  "nbformat_minor": 0,
  "metadata": {
    "colab": {
      "name": "Bioinformatics_basics.ipynb",
      "provenance": [],
      "collapsed_sections": [],
      "toc_visible": true
    },
    "kernelspec": {
      "name": "python3",
      "display_name": "Python 3"
    }
  },
  "cells": [
    {
      "cell_type": "markdown",
      "metadata": {
        "id": "PiGTImnGvx9U"
      },
      "source": [
        "# DNA LENGTH"
      ]
    },
    {
      "cell_type": "code",
      "metadata": {
        "colab": {
          "base_uri": "https://localhost:8080/"
        },
        "id": "k9q2MMMfi53K",
        "outputId": "b462cd0f-0dfd-4408-b443-b5c49bc2cca5"
      },
      "source": [
        "path= '/content/sequence.fasta'\n",
        "sequences = []\n",
        "def seq_line(path):\n",
        "    with open(path, 'r') as fin:\n",
        "        sequence = ''\n",
        "        for line in fin:\n",
        "            if line.startswith('>'):\n",
        "                sequences.append(sequence)\n",
        "                sequence = ''\n",
        "            else:\n",
        "                sequence += line.strip()\n",
        "        r=len(sequence)\n",
        "        return r\n",
        "seq_line(path)"
      ],
      "execution_count": null,
      "outputs": [
        {
          "output_type": "execute_result",
          "data": {
            "text/plain": [
              "570"
            ]
          },
          "metadata": {
            "tags": []
          },
          "execution_count": 22
        }
      ]
    },
    {
      "cell_type": "code",
      "metadata": {
        "colab": {
          "base_uri": "https://localhost:8080/"
        },
        "id": "5DFDsXqZvHk4",
        "outputId": "ae13358f-b337-4236-cd98-dc5216de97f9"
      },
      "source": [
        "seq=\"TTGATTCACCAGCGCGTATTGTCATTTCACATGGTAATGGCCCACAAATTGGAAGTTTATTAATCCAACAAGCTAAATCGAACAGTGACACAACGCCGGCAATGCCATTGGATACTTGTGGTGCAATGTCACAGGGTATGATAGGCTATTGGTTGGAAACTGAAATCAATCGCATTTTAACTGAAATGAATAGTGATAGAACTGTAGGCACAATCGTTACACGTGTGGAAGTAGATAAAGATGATCCACGATTCAATAACCCAACCAAACCAATTGGTCCTTTTTATACGAAAGAAGAAGTTGAAGAATTACAAAAAGAACAGCCAGACTCAGTCTTTAAAGAAGATGCAGGACGTGGTTATAGAAAAGTAGTTGCGTCACCACTACCTCAATCTATACTAGAACACCAGTTAATTCGAACTTTAGCAGACGGTAAAAATATTGTCATTGCATGCGGTGGTGGCGGTATTCCAGTTATAAAAAAAGAAAATACCTATGAAGGTGTTGAAGCGGTTATAGATAAAGATTTTGCTAGTGAGAAATTAGCAACGCTGATTGAAGCAGATACCT\"\n",
        "r=len(seq)\n",
        "print(r)"
      ],
      "execution_count": null,
      "outputs": [
        {
          "output_type": "stream",
          "text": [
            "570\n"
          ],
          "name": "stdout"
        }
      ]
    },
    {
      "cell_type": "markdown",
      "metadata": {
        "id": "wLtQhL2Cv7x7"
      },
      "source": [
        "### GC%"
      ]
    },
    {
      "cell_type": "code",
      "metadata": {
        "colab": {
          "base_uri": "https://localhost:8080/"
        },
        "id": "uK6eRyqlv6DN",
        "outputId": "c89dfc07-3e5d-45d9-9f9d-79290520156e"
      },
      "source": [
        "path= '/content/sequence.fasta'\n",
        "sequences = []\n",
        "count=0\n",
        "def seq_line(path):\n",
        "    with open(path, 'r') as fin:\n",
        "        sequence = ''\n",
        "        for line in fin:\n",
        "            if line.startswith('>'):\n",
        "                sequences.append(sequence)\n",
        "                sequence = ''\n",
        "            else:\n",
        "                sequence += line.strip()\n",
        "        seq=list(sequence)\n",
        "        l=len(seq)\n",
        "        g=seq.count('G')\n",
        "        c=seq.count('C')\n",
        "        count=((g+c)/l)*100\n",
        "        return count\n",
        "seq_line(path)"
      ],
      "execution_count": null,
      "outputs": [
        {
          "output_type": "execute_result",
          "data": {
            "text/plain": [
              "38.59649122807017"
            ]
          },
          "metadata": {
            "tags": []
          },
          "execution_count": 21
        }
      ]
    },
    {
      "cell_type": "markdown",
      "metadata": {
        "id": "jAHQsy7U2m7b"
      },
      "source": [
        "### Number of T,G and C"
      ]
    },
    {
      "cell_type": "code",
      "metadata": {
        "colab": {
          "base_uri": "https://localhost:8080/"
        },
        "id": "DEqdHj2x3GrD",
        "outputId": "479efc0e-a2dd-408a-b1d0-8f0a8970209d"
      },
      "source": [
        "path= '/content/sequence.fasta'\n",
        "sequences = []\n",
        "def seq_line(path):\n",
        "    with open(path, 'r') as fin:\n",
        "        sequence = ''\n",
        "        for line in fin:\n",
        "            if line.startswith('>'):\n",
        "                sequences.append(sequence)\n",
        "                sequence = ''\n",
        "            else:\n",
        "                sequence += line.strip()\n",
        "        seq=list(sequence)\n",
        "        print(\"No. of G in sequence\",seq.count('G'))\n",
        "        print(\"No. of C in sequence\",seq.count('C'))\n",
        "        print(\"No. of T in sequence\",seq.count('T'))\n",
        "seq_line(path)"
      ],
      "execution_count": null,
      "outputs": [
        {
          "output_type": "stream",
          "text": [
            "No. of G in sequence 122\n",
            "No. of C in sequence 98\n",
            "No. of T in sequence 148\n"
          ],
          "name": "stdout"
        }
      ]
    },
    {
      "cell_type": "markdown",
      "metadata": {
        "id": "YdlR4LEe4Acc"
      },
      "source": [
        "### DNA Single Strand to Double Stranded"
      ]
    },
    {
      "cell_type": "code",
      "metadata": {
        "colab": {
          "base_uri": "https://localhost:8080/"
        },
        "id": "CojKz7az4G5L",
        "outputId": "edecef2b-404e-46a3-8a31-1f2c5ee78b69"
      },
      "source": [
        "path= '/content/sequence.fasta'\n",
        "sequences = []\n",
        "l=[]\n",
        "def seq_line(path):\n",
        "    with open(path, 'r') as fin:\n",
        "        sequence = ''\n",
        "        for line in fin:\n",
        "            if line.startswith('>'):\n",
        "                sequences.append(sequence)\n",
        "                sequence = ''\n",
        "            else:\n",
        "                sequence += line.strip()\n",
        "        seq=list(sequence)\n",
        "        #print(seq)\n",
        "        for a in range(0,len(seq)):\n",
        "            if (seq[a]=='A'):\n",
        "                l.append('T')\n",
        "            elif (seq[a]=='G'):\n",
        "                l.append('C')\n",
        "            elif (seq[a]=='C'):\n",
        "                l.append('G')\n",
        "            elif (seq[a]=='T'):\n",
        "                l.append('A')\n",
        "        str1 = ''\n",
        "        for ele in l:\n",
        "            str1+=ele\n",
        "        print(\"1st strand:\", sequence)\n",
        "        print(\"2nd strand:\",str1)\n",
        "seq_line(path)"
      ],
      "execution_count": null,
      "outputs": [
        {
          "output_type": "stream",
          "text": [
            "1st strand: TTGATTCACCAGCGCGTATTGTCATTTCACATGGTAATGGCCCACAAATTGGAAGTTTATTAATCCAACAAGCTAAATCGAACAGTGACACAACGCCGGCAATGCCATTGGATACTTGTGGTGCAATGTCACAGGGTATGATAGGCTATTGGTTGGAAACTGAAATCAATCGCATTTTAACTGAAATGAATAGTGATAGAACTGTAGGCACAATCGTTACACGTGTGGAAGTAGATAAAGATGATCCACGATTCAATAACCCAACCAAACCAATTGGTCCTTTTTATACGAAAGAAGAAGTTGAAGAATTACAAAAAGAACAGCCAGACTCAGTCTTTAAAGAAGATGCAGGACGTGGTTATAGAAAAGTAGTTGCGTCACCACTACCTCAATCTATACTAGAACACCAGTTAATTCGAACTTTAGCAGACGGTAAAAATATTGTCATTGCATGCGGTGGTGGCGGTATTCCAGTTATAAAAAAAGAAAATACCTATGAAGGTGTTGAAGCGGTTATAGATAAAGATTTTGCTAGTGAGAAATTAGCAACGCTGATTGAAGCAGATACCT\n",
            "2nd strand: AACTAAGTGGTCGCGCATAACAGTAAAGTGTACCATTACCGGGTGTTTAACCTTCAAATAATTAGGTTGTTCGATTTAGCTTGTCACTGTGTTGCGGCCGTTACGGTAACCTATGAACACCACGTTACAGTGTCCCATACTATCCGATAACCAACCTTTGACTTTAGTTAGCGTAAAATTGACTTTACTTATCACTATCTTGACATCCGTGTTAGCAATGTGCACACCTTCATCTATTTCTACTAGGTGCTAAGTTATTGGGTTGGTTTGGTTAACCAGGAAAAATATGCTTTCTTCTTCAACTTCTTAATGTTTTTCTTGTCGGTCTGAGTCAGAAATTTCTTCTACGTCCTGCACCAATATCTTTTCATCAACGCAGTGGTGATGGAGTTAGATATGATCTTGTGGTCAATTAAGCTTGAAATCGTCTGCCATTTTTATAACAGTAACGTACGCCACCACCGCCATAAGGTCAATATTTTTTTCTTTTATGGATACTTCCACAACTTCGCCAATATCTATTTCTAAAACGATCACTCTTTAATCGTTGCGACTAACTTCGTCTATGGA\n"
          ],
          "name": "stdout"
        }
      ]
    },
    {
      "cell_type": "markdown",
      "metadata": {
        "id": "sZfh-H1O_Ueg"
      },
      "source": [
        "### Dna to Rna to Protein"
      ]
    },
    {
      "cell_type": "code",
      "metadata": {
        "colab": {
          "base_uri": "https://localhost:8080/"
        },
        "id": "wOC3vqKj_bhH",
        "outputId": "9c231cc4-8a4d-4e80-d805-7a1124ad3943"
      },
      "source": [
        "path= '/content/sequence.fasta'\n",
        "sequences = []\n",
        "def seq_line(path):\n",
        "    with open(path, 'r') as fin:\n",
        "        sequence = ''\n",
        "        for line in fin:\n",
        "            if line.startswith('>'):\n",
        "                sequences.append(sequence)\n",
        "                sequence = ''\n",
        "            else:\n",
        "                sequence += line.strip()\n",
        "        seq=sequence\n",
        "        print(\"DNA:\",seq)\n",
        "        seq=seq.replace(\"T\",\"U\")\n",
        "        print(\"RNA:\",seq)\n",
        "seq_line(path)"
      ],
      "execution_count": null,
      "outputs": [
        {
          "output_type": "stream",
          "text": [
            "DNA: TTGATTCACCAGCGCGTATTGTCATTTCACATGGTAATGGCCCACAAATTGGAAGTTTATTAATCCAACAAGCTAAATCGAACAGTGACACAACGCCGGCAATGCCATTGGATACTTGTGGTGCAATGTCACAGGGTATGATAGGCTATTGGTTGGAAACTGAAATCAATCGCATTTTAACTGAAATGAATAGTGATAGAACTGTAGGCACAATCGTTACACGTGTGGAAGTAGATAAAGATGATCCACGATTCAATAACCCAACCAAACCAATTGGTCCTTTTTATACGAAAGAAGAAGTTGAAGAATTACAAAAAGAACAGCCAGACTCAGTCTTTAAAGAAGATGCAGGACGTGGTTATAGAAAAGTAGTTGCGTCACCACTACCTCAATCTATACTAGAACACCAGTTAATTCGAACTTTAGCAGACGGTAAAAATATTGTCATTGCATGCGGTGGTGGCGGTATTCCAGTTATAAAAAAAGAAAATACCTATGAAGGTGTTGAAGCGGTTATAGATAAAGATTTTGCTAGTGAGAAATTAGCAACGCTGATTGAAGCAGATACCT\n",
            "RNA: UUGAUUCACCAGCGCGUAUUGUCAUUUCACAUGGUAAUGGCCCACAAAUUGGAAGUUUAUUAAUCCAACAAGCUAAAUCGAACAGUGACACAACGCCGGCAAUGCCAUUGGAUACUUGUGGUGCAAUGUCACAGGGUAUGAUAGGCUAUUGGUUGGAAACUGAAAUCAAUCGCAUUUUAACUGAAAUGAAUAGUGAUAGAACUGUAGGCACAAUCGUUACACGUGUGGAAGUAGAUAAAGAUGAUCCACGAUUCAAUAACCCAACCAAACCAAUUGGUCCUUUUUAUACGAAAGAAGAAGUUGAAGAAUUACAAAAAGAACAGCCAGACUCAGUCUUUAAAGAAGAUGCAGGACGUGGUUAUAGAAAAGUAGUUGCGUCACCACUACCUCAAUCUAUACUAGAACACCAGUUAAUUCGAACUUUAGCAGACGGUAAAAAUAUUGUCAUUGCAUGCGGUGGUGGCGGUAUUCCAGUUAUAAAAAAAGAAAAUACCUAUGAAGGUGUUGAAGCGGUUAUAGAUAAAGAUUUUGCUAGUGAGAAAUUAGCAACGCUGAUUGAAGCAGAUACCU\n"
          ],
          "name": "stdout"
        }
      ]
    },
    {
      "cell_type": "code",
      "metadata": {
        "colab": {
          "base_uri": "https://localhost:8080/"
        },
        "id": "TOEtjs2PDHSZ",
        "outputId": "b5e7c161-0ac9-447c-a592-4c8d3a179725"
      },
      "source": [
        "#TRANSCRIPTION\n",
        "path= '/content/sequence.fasta'\n",
        "sequences = []\n",
        "def seq_line(path):\n",
        "    with open(path, 'r') as fin:\n",
        "        sequence = ''\n",
        "        for line in fin:\n",
        "            if line.startswith('>'):\n",
        "                sequences.append(sequence)\n",
        "                sequence = ''\n",
        "            else:\n",
        "                sequence += line.strip()\n",
        "        seq=sequence\n",
        "        print(\"DNA:\",seq)\n",
        "        seq=seq.replace(\"T\",\"A\")\n",
        "        seq=seq.replace(\"A\",\"U\")\n",
        "        seq=seq.replace(\"G\",\"C\")\n",
        "        seq=seq.replace(\"C\",\"G\")\n",
        "        print(\"RNA:\",seq)\n",
        "seq_line(path)"
      ],
      "execution_count": null,
      "outputs": [
        {
          "output_type": "stream",
          "text": [
            "DNA: TTGATTCACCAGCGCGTATTGTCATTTCACATGGTAATGGCCCACAAATTGGAAGTTTATTAATCCAACAAGCTAAATCGAACAGTGACACAACGCCGGCAATGCCATTGGATACTTGTGGTGCAATGTCACAGGGTATGATAGGCTATTGGTTGGAAACTGAAATCAATCGCATTTTAACTGAAATGAATAGTGATAGAACTGTAGGCACAATCGTTACACGTGTGGAAGTAGATAAAGATGATCCACGATTCAATAACCCAACCAAACCAATTGGTCCTTTTTATACGAAAGAAGAAGTTGAAGAATTACAAAAAGAACAGCCAGACTCAGTCTTTAAAGAAGATGCAGGACGTGGTTATAGAAAAGTAGTTGCGTCACCACTACCTCAATCTATACTAGAACACCAGTTAATTCGAACTTTAGCAGACGGTAAAAATATTGTCATTGCATGCGGTGGTGGCGGTATTCCAGTTATAAAAAAAGAAAATACCTATGAAGGTGTTGAAGCGGTTATAGATAAAGATTTTGCTAGTGAGAAATTAGCAACGCTGATTGAAGCAGATACCT\n",
            "RNA: UUGUUUGUGGUGGGGGUUUUGUGUUUUGUGUUGGUUUUGGGGGUGUUUUUGGUUGUUUUUUUUUGGUUGUUGGUUUUUGGUUGUGUGUGUGUUGGGGGGGUUUGGGUUUGGUUUGUUGUGGUGGUUUGUGUGUGGGUUUGUUUGGGUUUUGGUUGGUUUGUGUUUUGUUUGGGUUUUUUUGUGUUUUGUUUUGUGUUUGUUGUGUUGGGUGUUUGGUUUGUGGUGUGGUUGUUGUUUUUGUUGUUGGUGGUUUGUUUUUGGGUUGGUUUGGUUUUGGUGGUUUUUUUUGGUUUGUUGUUGUUGUUGUUUUUGUUUUUGUUGUGGGUGUGUGUGUGUUUUUUGUUGUUGGUGGUGGUGGUUUUUGUUUUGUUGUUGGGUGUGGUGUUGGUGUUUGUUUUGUUGUUGUGGUGUUUUUUGGUUGUUUUGGUGUGGGUUUUUUUUUUGUGUUUGGUUGGGGUGGUGGGGGUUUUGGUGUUUUUUUUUUUGUUUUUUGGUUUGUUGGUGUUGUUGGGGUUUUUGUUUUUGUUUUUGGUUGUGUGUUUUUUGGUUGGGUGUUUGUUGGUGUUUGGU\n"
          ],
          "name": "stdout"
        }
      ]
    },
    {
      "cell_type": "markdown",
      "metadata": {
        "id": "oJBXHVN3EIo4"
      },
      "source": [
        "# OR"
      ]
    },
    {
      "cell_type": "code",
      "metadata": {
        "colab": {
          "base_uri": "https://localhost:8080/"
        },
        "id": "3boA_77HEMLh",
        "outputId": "0b8fce84-9d41-4cec-b35b-347f00c80618"
      },
      "source": [
        "path= '/content/sequence.fasta'\n",
        "sequences = []\n",
        "l=[]\n",
        "def seq_line(path):\n",
        "    with open(path, 'r') as fin:\n",
        "        sequence = ''\n",
        "        for line in fin:\n",
        "            if line.startswith('>'):\n",
        "                sequences.append(sequence)\n",
        "                sequence = ''\n",
        "            else:\n",
        "                sequence += line.strip()\n",
        "        seq=list(sequence)\n",
        "        #print(seq)\n",
        "        for a in range(0,len(seq)):\n",
        "            if (seq[a]=='A'):\n",
        "                l.append('U')\n",
        "            elif (seq[a]=='G'):\n",
        "                l.append('C')\n",
        "            elif (seq[a]=='C'):\n",
        "                l.append('G')\n",
        "            elif (seq[a]=='T'):\n",
        "                l.append('A')\n",
        "        str1 = ''\n",
        "        for ele in l:\n",
        "            str1+=ele\n",
        "        print(\"1st strand:\", sequence)\n",
        "        print(\"2nd strand:\",str1)\n",
        "seq_line(path)"
      ],
      "execution_count": null,
      "outputs": [
        {
          "output_type": "stream",
          "text": [
            "1st strand: TTGATTCACCAGCGCGTATTGTCATTTCACATGGTAATGGCCCACAAATTGGAAGTTTATTAATCCAACAAGCTAAATCGAACAGTGACACAACGCCGGCAATGCCATTGGATACTTGTGGTGCAATGTCACAGGGTATGATAGGCTATTGGTTGGAAACTGAAATCAATCGCATTTTAACTGAAATGAATAGTGATAGAACTGTAGGCACAATCGTTACACGTGTGGAAGTAGATAAAGATGATCCACGATTCAATAACCCAACCAAACCAATTGGTCCTTTTTATACGAAAGAAGAAGTTGAAGAATTACAAAAAGAACAGCCAGACTCAGTCTTTAAAGAAGATGCAGGACGTGGTTATAGAAAAGTAGTTGCGTCACCACTACCTCAATCTATACTAGAACACCAGTTAATTCGAACTTTAGCAGACGGTAAAAATATTGTCATTGCATGCGGTGGTGGCGGTATTCCAGTTATAAAAAAAGAAAATACCTATGAAGGTGTTGAAGCGGTTATAGATAAAGATTTTGCTAGTGAGAAATTAGCAACGCTGATTGAAGCAGATACCT\n",
            "2nd strand: AACUAAGUGGUCGCGCAUAACAGUAAAGUGUACCAUUACCGGGUGUUUAACCUUCAAAUAAUUAGGUUGUUCGAUUUAGCUUGUCACUGUGUUGCGGCCGUUACGGUAACCUAUGAACACCACGUUACAGUGUCCCAUACUAUCCGAUAACCAACCUUUGACUUUAGUUAGCGUAAAAUUGACUUUACUUAUCACUAUCUUGACAUCCGUGUUAGCAAUGUGCACACCUUCAUCUAUUUCUACUAGGUGCUAAGUUAUUGGGUUGGUUUGGUUAACCAGGAAAAAUAUGCUUUCUUCUUCAACUUCUUAAUGUUUUUCUUGUCGGUCUGAGUCAGAAAUUUCUUCUACGUCCUGCACCAAUAUCUUUUCAUCAACGCAGUGGUGAUGGAGUUAGAUAUGAUCUUGUGGUCAAUUAAGCUUGAAAUCGUCUGCCAUUUUUAUAACAGUAACGUACGCCACCACCGCCAUAAGGUCAAUAUUUUUUUCUUUUAUGGAUACUUCCACAACUUCGCCAAUAUCUAUUUCUAAAACGAUCACUCUUUAAUCGUUGCGACUAACUUCGUCUAUGGA\n"
          ],
          "name": "stdout"
        }
      ]
    },
    {
      "cell_type": "code",
      "metadata": {
        "colab": {
          "base_uri": "https://localhost:8080/"
        },
        "id": "JlBH-Zc8EjUZ",
        "outputId": "11e4ae27-b5df-4bbf-ed06-5bbf820d94cf"
      },
      "source": [
        "def translate(seq): \n",
        "    table = { \n",
        "        'AUA':'I', 'AUC':'I', 'AUU':'I', 'AUG':'M', \n",
        "        'ACA':'T', 'ACC':'T', 'ACG':'T', 'ACU':'T', \n",
        "        'AAC':'N', 'AAU':'N', 'AAA':'K', 'AAG':'K', \n",
        "        'AGC':'S', 'AGU':'S', 'AGA':'R', 'AGG':'R',                  \n",
        "        'CUA':'L', 'CUC':'L', 'CUG':'L', 'CUU':'L', \n",
        "        'CCA':'P', 'CCC':'P', 'CCG':'P', 'CCU':'P', \n",
        "        'CAC':'H', 'CAU':'H', 'CAA':'Q', 'CAG':'Q', \n",
        "        'CGA':'R', 'CGC':'R', 'CGG':'R', 'CGU':'R', \n",
        "        'GUA':'V', 'GUC':'V', 'GUG':'V', 'GUU':'V', \n",
        "        'GCA':'A', 'GCC':'A', 'GCG':'A', 'GCU':'A', \n",
        "        'GAC':'D', 'GAU':'D', 'GAA':'E', 'GAG':'E', \n",
        "        'GGA':'G', 'GGC':'G', 'GGG':'G', 'GGU':'G', \n",
        "        'UCA':'S', 'UCC':'S', 'UCG':'S', 'UCU':'S', \n",
        "        'UUC':'F', 'UUU':'F', 'UUA':'L', 'UUG':'L', \n",
        "        'UAC':'Y', 'UAU':'Y', 'UAA':'_', 'UAG':'_', \n",
        "        'UGC':'C', 'UGU':'C', 'UGA':'_', 'UGG':'W', \n",
        "     } \n",
        "    if len(seq)%3 == 0:\n",
        "        protein = '' \n",
        "        for i in range(0, len(seq), 3): \n",
        "            codon = seq[i:i + 3] \n",
        "            protein+= table[codon] \n",
        "    return protein \n",
        "path= '/content/sequence.fasta'\n",
        "sequences = []\n",
        "l=[]\n",
        "def seq_line(path):\n",
        "    with open(path, 'r') as fin:\n",
        "        sequence = ''\n",
        "        for line in fin:\n",
        "            if line.startswith('>'):\n",
        "                sequences.append(sequence)\n",
        "                sequence = ''\n",
        "            else:\n",
        "                sequence += line.strip()\n",
        "        seq=list(sequence)\n",
        "        #print(seq)\n",
        "        for a in range(0,len(seq)):\n",
        "            if (seq[a]=='A'):\n",
        "                l.append('U')\n",
        "            elif (seq[a]=='G'):\n",
        "                l.append('C')\n",
        "            elif (seq[a]=='C'):\n",
        "                l.append('G')\n",
        "            elif (seq[a]=='T'):\n",
        "                l.append('A')\n",
        "        str1 = '' \n",
        "        for ele in l:\n",
        "            str1+=ele\n",
        "        print(\"1st strand:\", sequence)\n",
        "        print(\"2nd strand:\",str1)\n",
        "        print(\"Protein:\",translate(str1))\n",
        "seq_line(path)"
      ],
      "execution_count": null,
      "outputs": [
        {
          "output_type": "stream",
          "text": [
            "1st strand: TTGATTCACCAGCGCGTATTGTCATTTCACATGGTAATGGCCCACAAATTGGAAGTTTATTAATCCAACAAGCTAAATCGAACAGTGACACAACGCCGGCAATGCCATTGGATACTTGTGGTGCAATGTCACAGGGTATGATAGGCTATTGGTTGGAAACTGAAATCAATCGCATTTTAACTGAAATGAATAGTGATAGAACTGTAGGCACAATCGTTACACGTGTGGAAGTAGATAAAGATGATCCACGATTCAATAACCCAACCAAACCAATTGGTCCTTTTTATACGAAAGAAGAAGTTGAAGAATTACAAAAAGAACAGCCAGACTCAGTCTTTAAAGAAGATGCAGGACGTGGTTATAGAAAAGTAGTTGCGTCACCACTACCTCAATCTATACTAGAACACCAGTTAATTCGAACTTTAGCAGACGGTAAAAATATTGTCATTGCATGCGGTGGTGGCGGTATTCCAGTTATAAAAAAAGAAAATACCTATGAAGGTGTTGAAGCGGTTATAGATAAAGATTTTGCTAGTGAGAAATTAGCAACGCTGATTGAAGCAGATACCT\n",
            "2nd strand: AACUAAGUGGUCGCGCAUAACAGUAAAGUGUACCAUUACCGGGUGUUUAACCUUCAAAUAAUUAGGUUGUUCGAUUUAGCUUGUCACUGUGUUGCGGCCGUUACGGUAACCUAUGAACACCACGUUACAGUGUCCCAUACUAUCCGAUAACCAACCUUUGACUUUAGUUAGCGUAAAAUUGACUUUACUUAUCACUAUCUUGACAUCCGUGUUAGCAAUGUGCACACCUUCAUCUAUUUCUACUAGGUGCUAAGUUAUUGGGUUGGUUUGGUUAACCAGGAAAAAUAUGCUUUCUUCUUCAACUUCUUAAUGUUUUUCUUGUCGGUCUGAGUCAGAAAUUUCUUCUACGUCCUGCACCAAUAUCUUUUCAUCAACGCAGUGGUGAUGGAGUUAGAUAUGAUCUUGUGGUCAAUUAAGCUUGAAAUCGUCUGCCAUUUUUAUAACAGUAACGUACGCCACCACCGCCAUAAGGUCAAUAUUUUUUUCUUUUAUGGAUACUUCCACAACUUCGCCAAUAUCUAUUUCUAAAACGAUCACUCUUUAAUCGUUGCGACUAACUUCGUCUAUGGA\n",
            "Protein: N_VVAHNSKVYHYRVFNLQIIRLFDLACHCVAAVTVTYEHHVTVSHTIR_PTFDFS_RKIDFTYHYLDIRVSNVHTFIYFY_VLSYWVGLVNQEKYAFFFNFLMFFLSV_VRNFFYVLHQYLFINAVVMELDMILWSIKLEIVCHFYNSNVRHHRHKVNIFFFYGYFHNFANIYF_NDHSLIVATNFVYG\n"
          ],
          "name": "stdout"
        }
      ]
    },
    {
      "cell_type": "markdown",
      "metadata": {
        "id": "tK-CwtA_G0xH"
      },
      "source": [
        "Certain amino acids are more or less likely to be found in α-helices or β pleated sheets. For instance, the amino acid proline is sometimes called a “helix breaker” because its unusual R group (which bonds to the amino group to form a ring) creates a bend in the chain and is not compatible with helix formation. Proline is typically found in bends, unstructured regions between secondary structures. Similarly, amino acids such as tryptophan, tyrosine, and phenylalanine, which have large ring structures in their R groups, are often found in β pleated sheets, perhaps because the β pleated sheet structure provides plenty of space for the side chains"
      ]
    },
    {
      "cell_type": "markdown",
      "metadata": {
        "id": "YR7E_m8hfllQ"
      },
      "source": [
        "### Protein Structure Prediction"
      ]
    },
    {
      "cell_type": "code",
      "metadata": {
        "colab": {
          "base_uri": "https://localhost:8080/"
        },
        "id": "W2tsV2lWf4U5",
        "outputId": "5eefd7b1-e1d8-4b8a-8fb0-5ff69c50086f"
      },
      "source": [
        "def translate(seq): \n",
        "    table = { \n",
        "        'AUA':'I', 'AUC':'I', 'AUU':'I', 'AUG':'M', \n",
        "        'ACA':'T', 'ACC':'T', 'ACG':'T', 'ACU':'T', \n",
        "        'AAC':'N', 'AAU':'N', 'AAA':'K', 'AAG':'K', \n",
        "        'AGC':'S', 'AGU':'S', 'AGA':'R', 'AGG':'R',                  \n",
        "        'CUA':'L', 'CUC':'L', 'CUG':'L', 'CUU':'L', \n",
        "        'CCA':'P', 'CCC':'P', 'CCG':'P', 'CCU':'P', \n",
        "        'CAC':'H', 'CAU':'H', 'CAA':'Q', 'CAG':'Q', \n",
        "        'CGA':'R', 'CGC':'R', 'CGG':'R', 'CGU':'R', \n",
        "        'GUA':'V', 'GUC':'V', 'GUG':'V', 'GUU':'V', \n",
        "        'GCA':'A', 'GCC':'A', 'GCG':'A', 'GCU':'A', \n",
        "        'GAC':'D', 'GAU':'D', 'GAA':'E', 'GAG':'E', \n",
        "        'GGA':'G', 'GGC':'G', 'GGG':'G', 'GGU':'G', \n",
        "        'UCA':'S', 'UCC':'S', 'UCG':'S', 'UCU':'S', \n",
        "        'UUC':'F', 'UUU':'F', 'UUA':'L', 'UUG':'L', \n",
        "        'UAC':'Y', 'UAU':'Y', 'UAA':'_', 'UAG':'_', \n",
        "        'UGC':'C', 'UGU':'C', 'UGA':'_', 'UGG':'W', \n",
        "     } \n",
        "    if len(seq)%3 == 0:\n",
        "        protein = '' \n",
        "        for i in range(0, len(seq), 3): \n",
        "            codon = seq[i:i + 3] \n",
        "            protein+= table[codon] \n",
        "    return protein \n",
        "path= '/content/sequence.fasta'\n",
        "sequences = []\n",
        "l=[]\n",
        "def seq_line(path):\n",
        "    with open(path, 'r') as fin:\n",
        "        sequence = ''\n",
        "        for line in fin:\n",
        "            if line.startswith('>'):\n",
        "                sequences.append(sequence)\n",
        "                sequence = ''\n",
        "            else:\n",
        "                sequence += line.strip()\n",
        "        seq=list(sequence)\n",
        "        #print(seq)\n",
        "        for a in range(0,len(seq)):\n",
        "            if (seq[a]=='A'):\n",
        "                l.append('U')\n",
        "            elif (seq[a]=='G'):\n",
        "                l.append('C')\n",
        "            elif (seq[a]=='C'):\n",
        "                l.append('G')\n",
        "            elif (seq[a]=='T'):\n",
        "                l.append('A')\n",
        "        str1 = '' \n",
        "        for ele in l:\n",
        "            str1+=ele\n",
        "        print(\"1st strand:\", sequence)\n",
        "        print(\"2nd strand:\",str1)\n",
        "        print(\"Protein:\",translate(str1))\n",
        "        protein_list=list(translate(str1))\n",
        "        #print(protein_list)\n",
        "        for i in range (0,len(protein_list)):\n",
        "            if (protein_list[i]=='P'):\n",
        "                print(\"Protein Structure: Beta Turn\")\n",
        "                break\n",
        "            elif (protein_list[i]=='Y'or protein_list[i]=='W' or protein_list[i]=='F'):\n",
        "                print(\"Protein Structure: Beta Sheets\")\n",
        "                break\n",
        "            #else:--------------------------------------------------- I am not sure whether to give this if I give this special cases will be ignored\n",
        "                #print(\"Protein Structure: Helix\")\n",
        "                #break\n",
        "seq_line(path)"
      ],
      "execution_count": null,
      "outputs": [
        {
          "output_type": "stream",
          "text": [
            "1st strand: TTGATTCACCAGCGCGTATTGTCATTTCACATGGTAATGGCCCACAAATTGGAAGTTTATTAATCCAACAAGCTAAATCGAACAGTGACACAACGCCGGCAATGCCATTGGATACTTGTGGTGCAATGTCACAGGGTATGATAGGCTATTGGTTGGAAACTGAAATCAATCGCATTTTAACTGAAATGAATAGTGATAGAACTGTAGGCACAATCGTTACACGTGTGGAAGTAGATAAAGATGATCCACGATTCAATAACCCAACCAAACCAATTGGTCCTTTTTATACGAAAGAAGAAGTTGAAGAATTACAAAAAGAACAGCCAGACTCAGTCTTTAAAGAAGATGCAGGACGTGGTTATAGAAAAGTAGTTGCGTCACCACTACCTCAATCTATACTAGAACACCAGTTAATTCGAACTTTAGCAGACGGTAAAAATATTGTCATTGCATGCGGTGGTGGCGGTATTCCAGTTATAAAAAAAGAAAATACCTATGAAGGTGTTGAAGCGGTTATAGATAAAGATTTTGCTAGTGAGAAATTAGCAACGCTGATTGAAGCAGATACCT\n",
            "2nd strand: AACUAAGUGGUCGCGCAUAACAGUAAAGUGUACCAUUACCGGGUGUUUAACCUUCAAAUAAUUAGGUUGUUCGAUUUAGCUUGUCACUGUGUUGCGGCCGUUACGGUAACCUAUGAACACCACGUUACAGUGUCCCAUACUAUCCGAUAACCAACCUUUGACUUUAGUUAGCGUAAAAUUGACUUUACUUAUCACUAUCUUGACAUCCGUGUUAGCAAUGUGCACACCUUCAUCUAUUUCUACUAGGUGCUAAGUUAUUGGGUUGGUUUGGUUAACCAGGAAAAAUAUGCUUUCUUCUUCAACUUCUUAAUGUUUUUCUUGUCGGUCUGAGUCAGAAAUUUCUUCUACGUCCUGCACCAAUAUCUUUUCAUCAACGCAGUGGUGAUGGAGUUAGAUAUGAUCUUGUGGUCAAUUAAGCUUGAAAUCGUCUGCCAUUUUUAUAACAGUAACGUACGCCACCACCGCCAUAAGGUCAAUAUUUUUUUCUUUUAUGGAUACUUCCACAACUUCGCCAAUAUCUAUUUCUAAAACGAUCACUCUUUAAUCGUUGCGACUAACUUCGUCUAUGGA\n",
            "Protein: N_VVAHNSKVYHYRVFNLQIIRLFDLACHCVAAVTVTYEHHVTVSHTIR_PTFDFS_RKIDFTYHYLDIRVSNVHTFIYFY_VLSYWVGLVNQEKYAFFFNFLMFFLSV_VRNFFYVLHQYLFINAVVMELDMILWSIKLEIVCHFYNSNVRHHRHKVNIFFFYGYFHNFANIYF_NDHSLIVATNFVYG\n",
            "Protein Structure: Beta Sheets\n"
          ],
          "name": "stdout"
        }
      ]
    },
    {
      "cell_type": "markdown",
      "metadata": {
        "id": "mUw-qVVBl-T_"
      },
      "source": [
        "### Protein Parameters"
      ]
    },
    {
      "cell_type": "code",
      "metadata": {
        "colab": {
          "base_uri": "https://localhost:8080/"
        },
        "id": "qdgaYrMpmCTb",
        "outputId": "7e7b0b9c-3cdc-4e80-8596-61f1dbbf879c"
      },
      "source": [
        "#Molecular weight of protein\n",
        "prot=\"N_VVAHNSKVYHYRVFNLQIIRLFDLACHCVAAVTVTYEHHVTVSHTIR_PTFDFS_RKIDFTYHYLDIRVSNVHTFIYFY_VLSYWVGLVNQEKYAFFFNFLMFFLSV_VRNFFYVLHQYLFINAVVMELDMILWSIKLEIVCHFYNSNVRHHRHKVNIFFFYGYFHNFANIYF_NDHSLIVATNFVYG\"\n",
        "pr=prot.replace(\"_\",\"\")\n",
        "print(pr)\n",
        "weights = {'A': 71.04, 'C': 103.01, 'D': 115.03, 'E': 129.04, 'F': 147.07,\n",
        "       'G': 57.02, 'H': 137.06, 'I': 113.08, 'K': 128.09, 'L': 113.08,\n",
        "       'M': 131.04, 'N': 114.04, 'P': 97.05, 'Q': 128.06, 'R': 156.10,\n",
        "       'S': 87.03, 'T': 101.05, 'V': 99.07, 'W': 186.08, 'Y': 163.06,'U':139.11,'O':131.13  }\n",
        "weight = sum(weights[p] for p in pr)\n",
        "print (\"The molecular weight of this protein is\", weight)"
      ],
      "execution_count": null,
      "outputs": [
        {
          "output_type": "stream",
          "text": [
            "NVVAHNSKVYHYRVFNLQIIRLFDLACHCVAAVTVTYEHHVTVSHTIRPTFDFSRKIDFTYHYLDIRVSNVHTFIYFYVLSYWVGLVNQEKYAFFFNFLMFFLSVVRNFFYVLHQYLFINAVVMELDMILWSIKLEIVCHFYNSNVRHHRHKVNIFFFYGYFHNFANIYFNDHSLIVATNFVYG\n",
            "The molecular weight of this protein is 22318.16000000002\n"
          ],
          "name": "stdout"
        }
      ]
    },
    {
      "cell_type": "code",
      "metadata": {
        "colab": {
          "base_uri": "https://localhost:8080/"
        },
        "id": "mgPApdItDxap",
        "outputId": "4b404d5e-a16f-4118-8547-17011c735ce8"
      },
      "source": [
        "#Number of amino acids and Isoelectric point of protein\n",
        "prot=\"N_VVAHNSKVYHYRVFNLQIIRLFDLACHCVAAVTVTYEHHVTVSHTIR_PTFDFS_RKIDFTYHYLDIRVSNVHTFIYFY_VLSYWVGLVNQEKYAFFFNFLMFFLSV_VRNFFYVLHQYLFINAVVMELDMILWSIKLEIVCHFYNSNVRHHRHKVNIFFFYGYFHNFANIYF_NDHSLIVATNFVYG\"\n",
        "pr=prot.replace(\"_\",\"\")\n",
        "print(pr)\n",
        "l=len(pr)\n",
        "pI={'A':6.00,'R':10.76,'N':5.41,'D':2.77,'C':5.07,'E':3.22,'Q':5.65,'G':5.97,'H':7.59,'I':6.02,'L':5.98,'K':9.74,'M':5.74,'F':5.48,'P':6.30,'U':5.68,'S':5.68,'T':5.60,'W':5.89,'Y':5.66,'V':5.96}\n",
        "pI = sum(pI[p] for p in pr)\n",
        "pI=pI/l\n",
        "print(\"Number of amino acids\",l)\n",
        "print (\"The theoritical PI of this protein is\", pI)"
      ],
      "execution_count": null,
      "outputs": [
        {
          "output_type": "stream",
          "text": [
            "NVVAHNSKVYHYRVFNLQIIRLFDLACHCVAAVTVTYEHHVTVSHTIRPTFDFSRKIDFTYHYLDIRVSNVHTFIYFYVLSYWVGLVNQEKYAFFFNFLMFFLSVVRNFFYVLHQYLFINAVVMELDMILWSIKLEIVCHFYNSNVRHHRHKVNIFFFYGYFHNFANIYFNDHSLIVATNFVYG\n",
            "Number of amino acids 184\n",
            "The theoritical PI of this protein is 6.063423913043482\n"
          ],
          "name": "stdout"
        }
      ]
    },
    {
      "cell_type": "markdown",
      "metadata": {
        "id": "I4uUuh26heS2"
      },
      "source": [
        "The actual protparam output:\n",
        "\n",
        "Number of amino acids: 184\n",
        "\n",
        "Molecular weight: 22350.85\n",
        "\n",
        "Theoretical pI: 8.72"
      ]
    },
    {
      "cell_type": "markdown",
      "metadata": {
        "id": "A3pTOHQ3fKF9"
      },
      "source": [
        "# FASTQ TO FASTA CONVERSION"
      ]
    },
    {
      "cell_type": "code",
      "metadata": {
        "id": "342_ZhAlfT0U",
        "colab": {
          "base_uri": "https://localhost:8080/"
        },
        "outputId": "2ca3919d-ae21-4bd5-d9b9-198527fcdb4e"
      },
      "source": [
        "path= '/content/seq.fastq'\n",
        "sequences = []\n",
        "seq=''\n",
        "def seq_line(path):\n",
        "    with open(path, 'r') as fin:\n",
        "        sequence = ''\n",
        "        for line in fin:\n",
        "            if line.startswith('@'):\n",
        "                sequences.append(sequence)\n",
        "                sequence = ''\n",
        "            else:\n",
        "                sequence += line.strip()\n",
        "        s=sequence.find(\"+\",0,len(sequence))\n",
        "        seq=sequence[0:s]\n",
        "        print(\">sequence information\\n\"+seq)\n",
        "        f = open(\"demofile2.txt\", \"a\")\n",
        "        f.write(\">sequence information\\n\"+seq)\n",
        "        f.close() \n",
        "seq_line(path)"
      ],
      "execution_count": null,
      "outputs": [
        {
          "output_type": "stream",
          "text": [
            ">sequence information\n",
            "GATGAACGCTGGCGGCATGCCTAACACATGCAAGTCGAACGGGGTTTATATGACGGAACTCTCCGGAGGGAAGATATATAAACCTAGTGGCGGACGGGTGAGTAACGCGTGGGCAACCTGCCCTGTACCGGGGGACAACAGCCAGAAATGGCTGCTAATACCGCATAAGCCTGCTGTGCCGCATGGCACAGCAGGGAAAACCCCGGTGGTACAGGATGGGCCCGCGTCGGATTAGTTAGTTGGCAGGGTAACGGCCAGCCAAGCGAACGATCAGGAGCCGGCTGAAGAGAGGGGGCGGCCC\n"
          ],
          "name": "stdout"
        }
      ]
    },
    {
      "cell_type": "code",
      "metadata": {
        "colab": {
          "base_uri": "https://localhost:8080/"
        },
        "id": "2C7NGhTbBvHs",
        "outputId": "2a4e3fd4-19c0-46c3-c174-8d93ad831f36"
      },
      "source": [
        "s=\"ABCDEFGHIJKLMNOPQRSTUVWXYZ=+GASFDTYINFDSE235781*&\"\n",
        "s.find(\"+\",0,len(s))"
      ],
      "execution_count": null,
      "outputs": [
        {
          "output_type": "execute_result",
          "data": {
            "text/plain": [
              "27"
            ]
          },
          "metadata": {
            "tags": []
          },
          "execution_count": 9
        }
      ]
    },
    {
      "cell_type": "markdown",
      "metadata": {
        "id": "AVpQKll7YX8U"
      },
      "source": [
        "# QUALITY SCORE SUMMARY"
      ]
    },
    {
      "cell_type": "code",
      "metadata": {
        "colab": {
          "base_uri": "https://localhost:8080/"
        },
        "id": "JnwMKwE7Mj-y",
        "outputId": "be73f22f-ae42-4fef-a2c4-0988fba7dcba"
      },
      "source": [
        "path= '/content/seq.fastq'\n",
        "sequences = []\n",
        "seq=''\n",
        "def seq_line(path):\n",
        "    with open(path, 'r') as fin:\n",
        "        sequence = ''\n",
        "        for line in fin:\n",
        "            if line.startswith('@'):\n",
        "                sequences.append(sequence)\n",
        "                sequence = ''\n",
        "            else:\n",
        "                sequence += line.strip()\n",
        "        s=sequence.find(\"+\",0,len(sequence))\n",
        "        l = 0\n",
        "        ch=''\n",
        "        for i in range(s+1,len(sequence)):\n",
        "            ch=ord(sequence[i])\n",
        "            #print (ch)\n",
        "            table={'33':0,'34':1,'35':2,'36':3,'37':4,'38':5,'39':6,'40':7,'41':8,'42':9,'43':10,'44':11,'45':12,'46':13,'47':14,'48':15,'49':16,'50':17,'51':18,'52':19,'53':20,'54':21,'55':22,'56':23,'57':24,'58':25,'59':26,'60':27,'61':28,'62':29,'63':30,'64':31,'65':32,'66':33,'67':34,'68':35,'69':36,'70':37,'71':38,'72':39,'73':40}\n",
        "            for ch in table:\n",
        "                l += table[ch]\n",
        "        print(l)\n",
        "seq_line(path)"
      ],
      "execution_count": null,
      "outputs": [
        {
          "output_type": "stream",
          "text": [
            "246820\n"
          ],
          "name": "stdout"
        }
      ]
    },
    {
      "cell_type": "markdown",
      "metadata": {
        "id": "e-MfUlBXYs2_"
      },
      "source": [
        "# Pandas"
      ]
    },
    {
      "cell_type": "code",
      "metadata": {
        "id": "Gn7VN_usY5dN",
        "colab": {
          "base_uri": "https://localhost:8080/"
        },
        "outputId": "86fcad2c-060c-4867-862e-29f030f2a930"
      },
      "source": [
        "import pandas as pd\n",
        "#Conversting a simple list into panda series\n",
        "a=[1,5,6,8,9,6,4,7]\n",
        "a=pd.Series(a)\n",
        "a"
      ],
      "execution_count": null,
      "outputs": [
        {
          "output_type": "execute_result",
          "data": {
            "text/plain": [
              "0    1\n",
              "1    5\n",
              "2    6\n",
              "3    8\n",
              "4    9\n",
              "5    6\n",
              "6    4\n",
              "7    7\n",
              "dtype: int64"
            ]
          },
          "metadata": {
            "tags": []
          },
          "execution_count": 3
        }
      ]
    },
    {
      "cell_type": "code",
      "metadata": {
        "colab": {
          "base_uri": "https://localhost:8080/"
        },
        "id": "Vbv8XYqVUotb",
        "outputId": "1449eac3-d7cf-4b46-c482-0ebd9829c87c"
      },
      "source": [
        "type(a)"
      ],
      "execution_count": null,
      "outputs": [
        {
          "output_type": "execute_result",
          "data": {
            "text/plain": [
              "pandas.core.series.Series"
            ]
          },
          "metadata": {
            "tags": []
          },
          "execution_count": 4
        }
      ]
    },
    {
      "cell_type": "code",
      "metadata": {
        "colab": {
          "base_uri": "https://localhost:8080/"
        },
        "id": "nSFOebxpUwJT",
        "outputId": "c3fb97a7-64f1-47fa-f36d-28da33e602e9"
      },
      "source": [
        "print(\"maximum number\",a.max())\n",
        "print(\"minimum number\",a.min())\n",
        "print(\"sorted series\\n\",a.sort_values(ascending=False))"
      ],
      "execution_count": null,
      "outputs": [
        {
          "output_type": "stream",
          "text": [
            "maximum number 9\n",
            "minimum number 1\n",
            "sorted series\n",
            " 4    9\n",
            "3    8\n",
            "7    7\n",
            "2    6\n",
            "5    6\n",
            "1    5\n",
            "6    4\n",
            "0    1\n",
            "dtype: int64\n"
          ],
          "name": "stdout"
        }
      ]
    },
    {
      "cell_type": "code",
      "metadata": {
        "colab": {
          "base_uri": "https://localhost:8080/"
        },
        "id": "jiS76pSwVQGC",
        "outputId": "30e762e0-7ced-4493-98d0-829cf1d9eefb"
      },
      "source": [
        "#inplace parameter save the changes made\n",
        "a.sort_values(ascending=True,inplace=True)\n",
        "a"
      ],
      "execution_count": null,
      "outputs": [
        {
          "output_type": "execute_result",
          "data": {
            "text/plain": [
              "0    1\n",
              "6    4\n",
              "1    5\n",
              "5    6\n",
              "2    6\n",
              "7    7\n",
              "3    8\n",
              "4    9\n",
              "dtype: int64"
            ]
          },
          "metadata": {
            "tags": []
          },
          "execution_count": 20
        }
      ]
    },
    {
      "cell_type": "code",
      "metadata": {
        "id": "uOLYn1W5jJUW"
      },
      "source": [
        ""
      ],
      "execution_count": null,
      "outputs": []
    }
  ]
}